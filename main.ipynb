{
 "cells": [
  {
   "cell_type": "code",
   "execution_count": 1,
   "metadata": {},
   "outputs": [],
   "source": [
    "from agi.stk12.stkdesktop import STKDesktop\n",
    "from agi.stk12.stkobjects import *\n",
    "from agi.stk12.stkutil import *\n",
    "from agi.stk12.vgt import *"
   ]
  },
  {
   "cell_type": "code",
   "execution_count": 2,
   "metadata": {},
   "outputs": [
    {
     "name": "stdout",
     "output_type": "stream",
     "text": [
      "<agi.stk12.stkobjects.AgStkObjectRoot object at 0x0000014BEE063680>\n"
     ]
    }
   ],
   "source": [
    "stk = STKDesktop.AttachToApplication ()\n",
    "root = stk.Root\n",
    "print ( root )"
   ]
  },
  {
   "cell_type": "markdown",
   "metadata": {},
   "source": []
  },
  {
   "cell_type": "code",
   "execution_count": 3,
   "metadata": {},
   "outputs": [
    {
     "ename": "AttributeError",
     "evalue": "'NoneType' object has no attribute 'SetTimePeriod'",
     "output_type": "error",
     "traceback": [
      "\u001b[1;31m---------------------------------------------------------------------------\u001b[0m",
      "\u001b[1;31mAttributeError\u001b[0m                            Traceback (most recent call last)",
      "Cell \u001b[1;32mIn[3], line 2\u001b[0m\n\u001b[0;32m      1\u001b[0m scenario \u001b[38;5;241m=\u001b[39m root\u001b[38;5;241m.\u001b[39mCurrentScenario\n\u001b[1;32m----> 2\u001b[0m \u001b[43mscenario\u001b[49m\u001b[38;5;241;43m.\u001b[39;49m\u001b[43mSetTimePeriod\u001b[49m ( \u001b[38;5;124m'\u001b[39m\u001b[38;5;124mToday\u001b[39m\u001b[38;5;124m'\u001b[39m , \u001b[38;5;124m'\u001b[39m\u001b[38;5;124m+24hr\u001b[39m\u001b[38;5;124m'\u001b[39m )\n\u001b[0;32m      3\u001b[0m root\u001b[38;5;241m.\u001b[39mRewind ()\n",
      "\u001b[1;31mAttributeError\u001b[0m: 'NoneType' object has no attribute 'SetTimePeriod'"
     ]
    }
   ],
   "source": [
    "scenario = root.CurrentScenario\n",
    "scenario.SetTimePeriod ( 'Today' , '+24hr' )\n",
    "root.Rewind ()"
   ]
  },
  {
   "cell_type": "code",
   "execution_count": 5,
   "metadata": {},
   "outputs": [
    {
     "ename": "STKRuntimeError",
     "evalue": "Instance /Application/STK/Scenario/STK_Training_Python/Target/GroundTarget already exists",
     "output_type": "error",
     "traceback": [
      "\u001b[1;31m---------------------------------------------------------------------------\u001b[0m",
      "\u001b[1;31mSTKRuntimeError\u001b[0m                           Traceback (most recent call last)",
      "Cell \u001b[1;32mIn[5], line 1\u001b[0m\n\u001b[1;32m----> 1\u001b[0m target \u001b[38;5;241m=\u001b[39m AgTarget ( \u001b[43mscenario\u001b[49m\u001b[38;5;241;43m.\u001b[39;49m\u001b[43mChildren\u001b[49m\u001b[38;5;241;43m.\u001b[39;49m\u001b[43mNew\u001b[49m\u001b[43m \u001b[49m\u001b[43m(\u001b[49m\u001b[43m \u001b[49m\u001b[43mAgESTKObjectType\u001b[49m\u001b[38;5;241;43m.\u001b[39;49m\u001b[43meTarget\u001b[49m\u001b[43m \u001b[49m\u001b[43m,\u001b[49m\u001b[43m \u001b[49m\u001b[38;5;124;43m\"\u001b[39;49m\u001b[38;5;124;43mGroundTarget\u001b[39;49m\u001b[38;5;124;43m\"\u001b[39;49m\u001b[43m \u001b[49m\u001b[43m)\u001b[49m )\n\u001b[0;32m      2\u001b[0m target\u001b[38;5;241m.\u001b[39mPosition\u001b[38;5;241m.\u001b[39mAssignGeodetic ( \u001b[38;5;241m50\u001b[39m ,\u001b[38;5;241m-\u001b[39m\u001b[38;5;241m100\u001b[39m , \u001b[38;5;241m0\u001b[39m )\n\u001b[0;32m      3\u001b[0m satellite \u001b[38;5;241m=\u001b[39m AgSatellite ( root\u001b[38;5;241m.\u001b[39mCurrentScenario\u001b[38;5;241m.\u001b[39mChildren\u001b[38;5;241m.\u001b[39mNew ( AgESTKObjectType\u001b[38;5;241m.\u001b[39meSatellite , \u001b[38;5;124m\"\u001b[39m\u001b[38;5;124mLeoSat\u001b[39m\u001b[38;5;124m\"\u001b[39m ) )\n",
      "File \u001b[1;32mc:\\Users\\mzeml\\AppData\\Local\\Programs\\Python\\Python312\\Lib\\site-packages\\agi\\stk12\\stkobjects\\__init__.py:13552\u001b[0m, in \u001b[0;36mIAgStkObjectCollection.New\u001b[1;34m(self, eClassType, instName)\u001b[0m\n\u001b[0;32m  13548\u001b[0m \u001b[38;5;250m\u001b[39m\u001b[38;5;124;03m\"\"\"Creates an STK object using specified class and instance name.\"\"\"\u001b[39;00m\n\u001b[0;32m  13549\u001b[0m \u001b[38;5;28;01mwith\u001b[39;00m agmarshall\u001b[38;5;241m.\u001b[39mAgEnum_arg(AgESTKObjectType, eClassType) \u001b[38;5;28;01mas\u001b[39;00m arg_eClassType, \\\n\u001b[0;32m  13550\u001b[0m      agmarshall\u001b[38;5;241m.\u001b[39mBSTR_arg(instName) \u001b[38;5;28;01mas\u001b[39;00m arg_instName, \\\n\u001b[0;32m  13551\u001b[0m      agmarshall\u001b[38;5;241m.\u001b[39mAgInterface_out_arg() \u001b[38;5;28;01mas\u001b[39;00m arg_ppRetVal:\n\u001b[1;32m> 13552\u001b[0m     \u001b[43magcls\u001b[49m\u001b[38;5;241;43m.\u001b[39;49m\u001b[43mevaluate_hresult\u001b[49m\u001b[43m(\u001b[49m\u001b[38;5;28;43mself\u001b[39;49m\u001b[38;5;241;43m.\u001b[39;49m\u001b[38;5;18;43m__dict__\u001b[39;49m\u001b[43m[\u001b[49m\u001b[38;5;124;43m\"\u001b[39;49m\u001b[38;5;124;43m_New\u001b[39;49m\u001b[38;5;124;43m\"\u001b[39;49m\u001b[43m]\u001b[49m\u001b[43m(\u001b[49m\u001b[43marg_eClassType\u001b[49m\u001b[38;5;241;43m.\u001b[39;49m\u001b[43mCOM_val\u001b[49m\u001b[43m,\u001b[49m\u001b[43m \u001b[49m\u001b[43marg_instName\u001b[49m\u001b[38;5;241;43m.\u001b[39;49m\u001b[43mCOM_val\u001b[49m\u001b[43m,\u001b[49m\u001b[43m \u001b[49m\u001b[43mbyref\u001b[49m\u001b[43m(\u001b[49m\u001b[43marg_ppRetVal\u001b[49m\u001b[38;5;241;43m.\u001b[39;49m\u001b[43mCOM_val\u001b[49m\u001b[43m)\u001b[49m\u001b[43m)\u001b[49m\u001b[43m)\u001b[49m\n\u001b[0;32m  13553\u001b[0m     \u001b[38;5;28;01mreturn\u001b[39;00m arg_ppRetVal\u001b[38;5;241m.\u001b[39mpython_val\n",
      "File \u001b[1;32mc:\\Users\\mzeml\\AppData\\Local\\Programs\\Python\\Python312\\Lib\\site-packages\\agi\\stk12\\internal\\coclassutil.py:83\u001b[0m, in \u001b[0;36mevaluate_hresult\u001b[1;34m(hr)\u001b[0m\n\u001b[0;32m     81\u001b[0m     msg \u001b[38;5;241m=\u001b[39m \u001b[38;5;124m\"\u001b[39m\u001b[38;5;124mOne or more arguments are invalid.\u001b[39m\u001b[38;5;124m\"\u001b[39m\n\u001b[0;32m     82\u001b[0m hresult_val \u001b[38;5;241m=\u001b[39m \u001b[38;5;124m\"\u001b[39m\u001b[38;5;124m(HRESULT = 0x\u001b[39m\u001b[38;5;132;01m%x\u001b[39;00m\u001b[38;5;124m)\u001b[39m\u001b[38;5;124m\"\u001b[39m \u001b[38;5;241m%\u001b[39m (hr \u001b[38;5;241m&\u001b[39m \u001b[38;5;241m0xFFFFFFFF\u001b[39m)\n\u001b[1;32m---> 83\u001b[0m \u001b[38;5;28;01mraise\u001b[39;00m STKRuntimeError(msg \u001b[38;5;28;01mif\u001b[39;00m msg \u001b[38;5;129;01mis\u001b[39;00m \u001b[38;5;129;01mnot\u001b[39;00m \u001b[38;5;28;01mNone\u001b[39;00m \u001b[38;5;28;01melse\u001b[39;00m hresult_val)\n",
      "\u001b[1;31mSTKRuntimeError\u001b[0m: Instance /Application/STK/Scenario/STK_Training_Python/Target/GroundTarget already exists"
     ]
    }
   ],
   "source": [
    "target = AgTarget ( scenario.Children.New ( AgESTKObjectType.eTarget , \"GroundTarget\" ) )\n",
    "target.Position.AssignGeodetic ( 50 ,-100 , 0 )\n",
    "satellite = AgSatellite ( root.CurrentScenario.Children.New ( AgESTKObjectType.eSatellite , \"LeoSat\" ) )\n",
    "print ( scenario.StartTime )\n",
    "print ( scenario.StopTime )"
   ]
  }
 ],
 "metadata": {
  "kernelspec": {
   "display_name": "Python 3",
   "language": "python",
   "name": "python3"
  },
  "language_info": {
   "codemirror_mode": {
    "name": "ipython",
    "version": 3
   },
   "file_extension": ".py",
   "mimetype": "text/x-python",
   "name": "python",
   "nbconvert_exporter": "python",
   "pygments_lexer": "ipython3",
   "version": "3.12.0"
  }
 },
 "nbformat": 4,
 "nbformat_minor": 2
}
