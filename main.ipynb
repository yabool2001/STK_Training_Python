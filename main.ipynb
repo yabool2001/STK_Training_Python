{
 "cells": [
  {
   "cell_type": "code",
   "execution_count": 1,
   "metadata": {},
   "outputs": [],
   "source": [
    "from agi.stk12.stkdesktop import STKDesktop\n",
    "from agi.stk12.stkobjects import *\n",
    "from agi.stk12.stkutil import *\n",
    "from agi.stk12.vgt import *"
   ]
  },
  {
   "cell_type": "code",
   "execution_count": 2,
   "metadata": {},
   "outputs": [
    {
     "name": "stdout",
     "output_type": "stream",
     "text": [
      "<agi.stk12.stkobjects.AgStkObjectRoot object at 0x0000028AF0743650>\n"
     ]
    }
   ],
   "source": [
    "stk = STKDesktop.AttachToApplication ()\n",
    "root = stk.Root\n",
    "print ( root )"
   ]
  },
  {
   "cell_type": "code",
   "execution_count": 3,
   "metadata": {},
   "outputs": [],
   "source": [
    "scenario = root.CurrentScenario\n",
    "scenario.SetTimePeriod ( 'Today' , '+24hr' )\n",
    "root.Rewind ()"
   ]
  },
  {
   "cell_type": "code",
   "execution_count": null,
   "metadata": {},
   "outputs": [],
   "source": [
    "# print ( help ( root.CurrentScenario ) )"
   ]
  },
  {
   "cell_type": "code",
   "execution_count": 8,
   "metadata": {},
   "outputs": [
    {
     "name": "stdout",
     "output_type": "stream",
     "text": [
      "<agi.stk12.stkutil.AgExecMultiCmdResult object at 0x0000028AF087CA70>\n"
     ]
    }
   ],
   "source": [
    "connect_commands = [ 'GetStkVersion /' , 'New / Scenario ExampleScenario' ] #use a list of strings\n",
    "command_results = root.ExecuteMultipleCommands ( connect_commands , AgEExecMultiCmdResultAction.eContinueOnError )\n",
    "print ( command_results )"
   ]
  },
  {
   "cell_type": "code",
   "execution_count": 5,
   "metadata": {},
   "outputs": [
    {
     "name": "stdout",
     "output_type": "stream",
     "text": [
      "26 Dec 2023 23:00:00.000\n",
      "27 Dec 2023 23:00:00.000\n"
     ]
    }
   ],
   "source": [
    "target = AgTarget ( scenario.Children.New ( AgESTKObjectType.eTarget , \"GroundTarget\" ) )\n",
    "target.Position.AssignGeodetic ( 50 ,-100 , 0 )\n",
    "satellite = AgSatellite ( root.CurrentScenario.Children.New ( AgESTKObjectType.eSatellite , \"LeoSat\" ) )\n",
    "print ( scenario.StartTime )\n",
    "print ( scenario.StopTime )"
   ]
  },
  {
   "cell_type": "code",
   "execution_count": null,
   "metadata": {},
   "outputs": [],
   "source": [
    "# stk.ShutDown ()"
   ]
  }
 ],
 "metadata": {
  "kernelspec": {
   "display_name": "Python 3",
   "language": "python",
   "name": "python3"
  },
  "language_info": {
   "codemirror_mode": {
    "name": "ipython",
    "version": 3
   },
   "file_extension": ".py",
   "mimetype": "text/x-python",
   "name": "python",
   "nbconvert_exporter": "python",
   "pygments_lexer": "ipython3",
   "version": "3.12.0"
  }
 },
 "nbformat": 4,
 "nbformat_minor": 2
}
